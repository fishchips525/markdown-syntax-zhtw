{
  "nbformat": 4,
  "nbformat_minor": 0,
  "metadata": {
    "colab": {
      "name": "Optimization Example - Questions.ipynb",
      "version": "0.3.2",
      "provenance": [],
      "collapsed_sections": [],
      "include_colab_link": true
    },
    "kernelspec": {
      "name": "python3",
      "display_name": "Python 3"
    }
  },
  "cells": [
    {
      "cell_type": "markdown",
      "metadata": {
        "id": "view-in-github",
        "colab_type": "text"
      },
      "source": [
        "<a href=\"https://colab.research.google.com/github/fishchips525/markdown-syntax-zhtw/blob/master/Optimization_Example_Questions.ipynb\" target=\"_parent\"><img src=\"https://colab.research.google.com/assets/colab-badge.svg\" alt=\"Open In Colab\"/></a>"
      ]
    },
    {
      "metadata": {
        "id": "7hzvnUfcALX4",
        "colab_type": "text"
      },
      "cell_type": "markdown",
      "source": [
        "# Optimize the following code"
      ]
    },
    {
      "metadata": {
        "id": "nA04gle6AFT7",
        "colab_type": "code",
        "colab": {}
      },
      "cell_type": "code",
      "source": [
        "import numpy as np\n",
        "from math import sin as sn\n",
        "import matplotlib.pyplot as plt\n",
        "import time"
      ],
      "execution_count": 0,
      "outputs": []
    },
    {
      "metadata": {
        "id": "ARwoHCdSAKBb",
        "colab_type": "code",
        "colab": {}
      },
      "cell_type": "code",
      "source": [
        "# Number of test points\n",
        "N_point  = 1000"
      ],
      "execution_count": 0,
      "outputs": []
    },
    {
      "metadata": {
        "id": "6lELoASAAOZp",
        "colab_type": "code",
        "colab": {}
      },
      "cell_type": "code",
      "source": [
        "# Define a custom function with some if-else loops\n",
        "def myfunc(x,y):\n",
        "    if (x>0.5*y and y<0.3):\n",
        "        return (sn(x-y))\n",
        "    elif (x<0.5*y):\n",
        "        return 0\n",
        "    elif (x>0.2*y):\n",
        "        return (2*sn(x+2*y))\n",
        "    else:\n",
        "        return (sn(y+x))"
      ],
      "execution_count": 0,
      "outputs": []
    },
    {
      "metadata": {
        "id": "e8KcNbihAdEW",
        "colab_type": "code",
        "colab": {}
      },
      "cell_type": "code",
      "source": [
        "# List of stored elements, generated from a Normal distribution\n",
        "lst_x = np.random.randn(N_point)\n",
        "lst_y = np.random.randn(N_point)\n",
        "lst_result = []"
      ],
      "execution_count": 0,
      "outputs": []
    },
    {
      "metadata": {
        "id": "sjiXWtLSCCbl",
        "colab_type": "code",
        "colab": {}
      },
      "cell_type": "code",
      "source": [
        "# 1) Modify this cell to evaluate the time taken to run the following\n",
        "\n",
        "%timeit myfunc(lst_x[0],lst_y[0])\n"
      ],
      "execution_count": 0,
      "outputs": []
    },
    {
      "metadata": {
        "id": "5agF5fGAAnLs",
        "colab_type": "code",
        "colab": {}
      },
      "cell_type": "code",
      "source": [
        "# 2) Modify this cell to evaluate the time taken to loop over input pairs, and print the time taken\n",
        "\n",
        "lst_result = []\n",
        "for i in range(len(lst_x)):\n",
        "  lst_result.append(myfunc(lst_x[i],lst_y[i]))\n",
        "\n"
      ],
      "execution_count": 0,
      "outputs": []
    },
    {
      "metadata": {
        "id": "NiLbhnaKA5kP",
        "colab_type": "code",
        "colab": {}
      },
      "cell_type": "code",
      "source": [
        "# 3) Use the Numpy.vectorize function to create a vectorized function, which takes the lists as inputs, and print out time taken\n"
      ],
      "execution_count": 0,
      "outputs": []
    }
  ]
}